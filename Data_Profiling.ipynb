{
 "cells": [
  {
   "cell_type": "code",
   "execution_count": 1,
   "id": "206e5a79",
   "metadata": {},
   "outputs": [],
   "source": [
    "from pyspark.sql import SparkSession\n",
    "from pyspark.sql import functions\n",
    "from pyspark.sql.types import StructType\n",
    "from pyspark import SparkContext, SparkConf, SQLContext\n",
    "from pyspark.sql.types import FloatType, IntegerType, DateType\n",
    "from pyspark.sql.functions import udf, isnan, when, count, col"
   ]
  },
  {
   "cell_type": "code",
   "execution_count": 2,
   "id": "54942a7c",
   "metadata": {},
   "outputs": [],
   "source": [
    "import os \n",
    "#os.environ['PYSPARK_SUBMIT_ARGS'] = '--jars /usr/share/java/mariadb-java-client-2.5.3.jar pyspark-shell'\n",
    "os.environ['PYSPARK_SUBMIT_ARGS'] = '--jars /Users/majo/Documents/david/mariadb-java-client-2.5.3.jar pyspark-shell'"
   ]
  },
  {
   "cell_type": "code",
   "execution_count": 3,
   "id": "de2ab1bf",
   "metadata": {},
   "outputs": [
    {
     "name": "stderr",
     "output_type": "stream",
     "text": [
      "21/10/24 22:17:01 WARN NativeCodeLoader: Unable to load native-hadoop library for your platform... using builtin-java classes where applicable\n",
      "Using Spark's default log4j profile: org/apache/spark/log4j-defaults.properties\n",
      "Setting default log level to \"WARN\".\n",
      "To adjust logging level use sc.setLogLevel(newLevel). For SparkR, use setLogLevel(newLevel).\n",
      "/Users/majo/opt/anaconda3/envs/Modelo_ETL/lib/python3.8/site-packages/pyspark/sql/context.py:77: FutureWarning: Deprecated in 3.0.0. Use SparkSession.builder.getOrCreate() instead.\n",
      "  warnings.warn(\n"
     ]
    }
   ],
   "source": [
    "spark_context = SparkContext()\n",
    "sql_context = SQLContext(spark_context)\n",
    "spark = sql_context.sparkSession"
   ]
  },
  {
   "cell_type": "code",
   "execution_count": 4,
   "id": "57bf3faf",
   "metadata": {},
   "outputs": [],
   "source": [
    "PATH = \"/Users/majo/Desktop/Maestría_MIAD/Semestre_1/Modelado_de_Datos_y_ETL/Semana_2/Tarea_Data_Profiling/\""
   ]
  },
  {
   "cell_type": "code",
   "execution_count": 5,
   "id": "e3c29f51",
   "metadata": {},
   "outputs": [
    {
     "name": "stderr",
     "output_type": "stream",
     "text": [
      "                                                                                \r"
     ]
    },
    {
     "name": "stdout",
     "output_type": "stream",
     "text": [
      "+---+-----+----+--------------------+--------------------+------------------+-------------+-------+--------+--------------------+--------------------+--------------+-----------+-------+---------+----------+------------------+--------------+-----+----------+--------------------+----------------+-------------+\n",
      "|_c0|sigla|iata|              nombre|           municipio|      departamento|    categoria|latitud|longitud|         propietario|          explotador|longitud_pista|ancho_pista|   pbmo|elevacion|resolucion|fecha_construccion|fecha_vigencia|clase|      tipo|numero_vuelos_origen|gcd_departamento|gcd_municipio|\n",
      "+---+-----+----+--------------------+--------------------+------------------+-------------+-------+--------+--------------------+--------------------+--------------+-----------+-------+---------+----------+------------------+--------------+-----+----------+--------------------+----------------+-------------+\n",
      "|274|  BOG| BOG|           EL DORADO|        Bogotá, D.C.|      Bogotá, D.C.|Internacional| 4.7017|-74.1469|           AEROCIVIL|  EN CONCESION CODAD|        3800.0|       60.0|    nan|   8356.0|   320,000|        1999-12-09|           nan|   4E| Aerocivil|           1804153.0|              11|        11001|\n",
      "|134|  9DG| nan|        EL LAGO - CA|             Piedras|            Tolima|    Aeródromo| 4.5575|-74.9003|    BERNEY RODRIGUEZ|OSMANI RODRIGUEZ ...|         350.0|       10.0|  500.0|   1050.0|  6744,000|        2016-12-17|           nan|   UL|   Privado|            479797.0|              73|        73547|\n",
      "|803|  TLU| TLU|                TOLU|          Tolú Viejo|             Sucre|     Regional| 9.5095|-75.5859|           AEROCIVIL|           AEROCIVIL|        1350.0|       16.0|12202.0|     15.0|   455,000|        2000-12-24|           nan|   2A| Aerocivil|            227253.0|              70|        70823|\n",
      "|174|  9MK| nan|      VILLA ISABELLA|            Trinidad|          Casanare|    Aeródromo| 5.2993|-71.3434|      RAFAEL QUESADA|          TAES LTDA.|         800.0|       10.0| 2000.0|    620.0|  4313,000|        2018-10-31|           nan|   1A|Fumigación|            493950.0|              85|        85430|\n",
      "|344|  CUC| CUC|         CAMILO DAZA|  San José de Cúcuta|Norte de Santander|Internacional| 7.9274|-72.5116|           AEROCIVIL|AEROCIVIL -ORIENT...|        1920.0|       45.0|    nan|   1027.0|   984,000|        2013-04-28|           nan|   4D| Aerocivil|             91797.0|              54|        54001|\n",
      "| 92|  9BE| nan|           LAS VEGAS|      Paz de Ariporo|          Casanare|    Aeródromo| 6.0072|-71.2842|ALEIDA JERONIMO N...|ALEIDA JERONIMO N...|         740.0|       15.0| 3500.0|    430.0|  1657,000|        2016-11-10|           nan|   1A|   Privado|            462527.0|              85|        85250|\n",
      "|860|  YPP| nan|      GERMAN ALBERTO|               Yopal|          Casanare|    Aeródromo| 5.1875|-72.3191|JOSE NELSON PEREZ R.|         CELTA LTDA.|         800.0|       15.0| 2000.0|    735.0|  4511,000|        2018-11-25|    2018-11-10|   1A|Fumigación|             45537.0|              85|        85001|\n",
      "|855|  VVU| nan|        SANTA ISABEL|       Villavicencio|              Meta|    Aeródromo| 3.9873|-73.2091|           EFA LTDA.|           EFA LTDA.|         800.0|       10.0| 2000.0|    689.0|  2634,000|        2018-11-27|           nan|   1A|Fumigación|            119198.0|              50|        50001|\n",
      "| 10|  7GD| nan|           VELASQUEZ|       Puerto Boyacá|            Boyacá|    Aeródromo| 5.9482|-74.4575|                 FAC|          MANSAROVAR|        1500.0|       18.0|10000.0|    617.0|  2135,000|        2016-11-25|           nan|   3C|   Privado|            987668.0|              15|        15572|\n",
      "|178|  9MO| nan|         SAN NICOLAS|           Tauramena|          Casanare|    Aeródromo| 4.4703|-72.4575| CARLOS E. CONTRERAS|          ASAM LTDA.|         840.0|       10.0| 2000.0|    585.0|  4510,000|        2012-08-22|           nan|   1A|Fumigación|            244452.0|              85|        85410|\n",
      "|797|  TCO| nan|          LA FLORIDA|San Andrés de Tumaco|            Nariño|     Nacional| 1.8144| -78.749|           AEROCIVIL|           AEROCIVIL|        1600.0|       30.0|    nan|     10.0|   455,000|        1973-11-19|           nan|   3C| Aerocivil|            596754.0|              52|        52835|\n",
      "|374|  ELB| ELB|          LAS FLORES|            El Banco|         Magdalena|    Aeródromo| 9.0428|-73.9715|           AEROCIVIL|           AEROCIVIL|        1225.0|       28.0|19045.0|    110.0|  1374,000|        1996-09-15|           nan|   3B| Aerocivil|             58930.0|              47|        47245|\n",
      "| 75|  9AJ| nan|    SAN LUIS DE PACA|                Mitú|            Vaupés|    Aeródromo| 0.8744|-70.3464|  RESGUARDO INDIGENA|GOBERNACION DEL V...|         424.0|       10.0| 1650.0|    590.0|  3423,000|        2011-09-19|           nan|   1A|   Público|            186305.0|              97|        97001|\n",
      "|203|  A03| nan|              FORTUL|              Fortul|            Arauca|    Aeródromo| 6.7817|-71.7791|         GOBERNACION|           MUNICIPIO|         700.0|       13.0| 4000.0|    730.0|  2036,000|        2014-11-29|           nan|   1A|   Público|            575874.0|              81|        81300|\n",
      "| 62|  7NP| nan|          EL CAIRANO|      Santa Catalina|           Bolívar|    Aeródromo|10.7124|-75.2649|  CARLOS E. GUERRERO|ENRIQUE MORALES N...|         215.0|       10.0|  400.0|     30.0|   998,000|        2016-08-08|           nan|   UL|   Privado|             42644.0|              13|        13673|\n",
      "|177|  9MN| nan|   EL PEDRAL BONANZA|      Puerto Wilches|         Santander|    Aeródromo| 7.2417|-73.8151|                 nan|    AEROPENORT LTDA.|         800.0|       10.0| 3000.0|    282.0|       nan|        2013-10-11|    2012-09-22|   1A|Fumigación|            883478.0|              68|        68575|\n",
      "|607|  NQU| NQU|       REYES MURILLO|               Nuquí|             Chocó|     Regional|  5.712|-77.2627|           AEROCIVIL|           AEROCIVIL|         930.0|       10.0|    nan|     13.0|     2,279|        2004-08-24|           nan|   1A| Aerocivil|            163264.0|              27|        27495|\n",
      "|268|  BMG| nan|      BARRANCO MINAS|      Barranco Minas|           Guainía|    Aeródromo| 3.4907|-69.8097|         GOBERNACION|        DEPARTAMENTO|         900.0|       15.0|    nan|    125.0|  2477,000|        1984-09-17|           nan|   1A|   Público|           1027931.0|              94|        94343|\n",
      "|170|  9MG| nan|          MADREVIEJA|             Nunchía|          Casanare|    Aeródromo| 5.4623|-71.9584| CELMIRA BARRAGAN F.| CELMIRA BARRAGAN F.|        1000.0|       10.0| 2000.0|    640.0|  4509,000|        2018-10-16|           nan|   1A|Fumigación|            314181.0|              85|        85225|\n",
      "|661|  PIP| RON|PAIPA JUAN JOSE R...|               Paipa|            Boyacá|    Aeródromo| 5.7644|-73.1057|           AEROCIVIL|           AEROCIVIL|        1700.0|       30.0|11400.0|   8205.0|   984,000|        1996-02-30|           nan|   3C| Aerocivil|            202729.0|              15|        15516|\n",
      "+---+-----+----+--------------------+--------------------+------------------+-------------+-------+--------+--------------------+--------------------+--------------+-----------+-------+---------+----------+------------------+--------------+-----+----------+--------------------+----------------+-------------+\n",
      "only showing top 20 rows\n",
      "\n"
     ]
    },
    {
     "name": "stderr",
     "output_type": "stream",
     "text": [
      "21/10/24 22:17:19 WARN CSVHeaderChecker: CSV header does not conform to the schema.\n",
      " Header: , sigla, iata, nombre, municipio, departamento, categoria, latitud, longitud, propietario, explotador, longitud_pista, ancho_pista, pbmo, elevacion, resolucion, fecha_construccion, fecha_vigencia, clase, tipo, numero_vuelos_origen, gcd_departamento, gcd_municipio\n",
      " Schema: _c0, sigla, iata, nombre, municipio, departamento, categoria, latitud, longitud, propietario, explotador, longitud_pista, ancho_pista, pbmo, elevacion, resolucion, fecha_construccion, fecha_vigencia, clase, tipo, numero_vuelos_origen, gcd_departamento, gcd_municipio\n",
      "Expected: _c0 but found: \n",
      "CSV file: file:///Users/majo/Desktop/Maestría_MIAD/Semestre_1/Modelado_de_Datos_y_ETL/Semana_2/Tarea_Data_Profiling/aeropuertos.csv\n"
     ]
    }
   ],
   "source": [
    "aeropuertos = spark.read.load(PATH+\"aeropuertos.csv\",format=\"csv\", sep=\",\", inferSchema=\"true\", header=\"true\")\n",
    "aeropuertos.show()"
   ]
  },
  {
   "cell_type": "code",
   "execution_count": 6,
   "id": "33634fc0",
   "metadata": {},
   "outputs": [
    {
     "name": "stdout",
     "output_type": "stream",
     "text": [
      "StructType(List(StructField(_c0,IntegerType,true),StructField(sigla,StringType,true),StructField(iata,StringType,true),StructField(nombre,StringType,true),StructField(municipio,StringType,true),StructField(departamento,StringType,true),StructField(categoria,StringType,true),StructField(latitud,DoubleType,true),StructField(longitud,DoubleType,true),StructField(propietario,StringType,true),StructField(explotador,StringType,true),StructField(longitud_pista,DoubleType,true),StructField(ancho_pista,DoubleType,true),StructField(pbmo,StringType,true),StructField(elevacion,DoubleType,true),StructField(resolucion,StringType,true),StructField(fecha_construccion,StringType,true),StructField(fecha_vigencia,StringType,true),StructField(clase,StringType,true),StructField(tipo,StringType,true),StructField(numero_vuelos_origen,StringType,true),StructField(gcd_departamento,IntegerType,true),StructField(gcd_municipio,IntegerType,true)))\n"
     ]
    }
   ],
   "source": [
    "print(aeropuertos.schema)"
   ]
  },
  {
   "cell_type": "code",
   "execution_count": 7,
   "id": "3fd944d3",
   "metadata": {},
   "outputs": [
    {
     "name": "stdout",
     "output_type": "stream",
     "text": [
      "292\n"
     ]
    }
   ],
   "source": [
    "row_number = aeropuertos.count()\n",
    "print(row_number)"
   ]
  },
  {
   "cell_type": "code",
   "execution_count": 8,
   "id": "3a4fcd19",
   "metadata": {},
   "outputs": [
    {
     "name": "stderr",
     "output_type": "stream",
     "text": [
      "21/10/24 22:17:25 WARN CSVHeaderChecker: CSV header does not conform to the schema.\n",
      " Header: , sigla, iata, nombre, municipio, departamento, categoria, latitud, longitud, propietario, explotador, longitud_pista, ancho_pista, pbmo, elevacion, resolucion, fecha_construccion, fecha_vigencia, clase, tipo, numero_vuelos_origen, gcd_departamento, gcd_municipio\n",
      " Schema: _c0, sigla, iata, nombre, municipio, departamento, categoria, latitud, longitud, propietario, explotador, longitud_pista, ancho_pista, pbmo, elevacion, resolucion, fecha_construccion, fecha_vigencia, clase, tipo, numero_vuelos_origen, gcd_departamento, gcd_municipio\n",
      "Expected: _c0 but found: \n",
      "CSV file: file:///Users/majo/Desktop/Maestría_MIAD/Semestre_1/Modelado_de_Datos_y_ETL/Semana_2/Tarea_Data_Profiling/aeropuertos.csv\n"
     ]
    },
    {
     "name": "stdout",
     "output_type": "stream",
     "text": [
      "+---+-----+----+------+---------+------------+---------+-------+--------+-----------+----------+--------------+-----------+----+---------+----------+------------------+--------------+-----+----+--------------------+----------------+-------------+\n",
      "|_c0|sigla|iata|nombre|municipio|departamento|categoria|latitud|longitud|propietario|explotador|longitud_pista|ancho_pista|pbmo|elevacion|resolucion|fecha_construccion|fecha_vigencia|clase|tipo|numero_vuelos_origen|gcd_departamento|gcd_municipio|\n",
      "+---+-----+----+------+---------+------------+---------+-------+--------+-----------+----------+--------------+-----------+----+---------+----------+------------------+--------------+-----+----+--------------------+----------------+-------------+\n",
      "|  0|    0| 209|     0|        0|           0|        0|      0|       0|          3|         0|             0|          0|  55|        0|         6|                 0|           221|    0|   0|                  71|               0|            0|\n",
      "+---+-----+----+------+---------+------------+---------+-------+--------+-----------+----------+--------------+-----------+----+---------+----------+------------------+--------------+-----+----+--------------------+----------------+-------------+\n",
      "\n"
     ]
    }
   ],
   "source": [
    "aeropuertos.select([count(when(isnan(c), c)).alias(c) for c in aeropuertos.columns]).show()"
   ]
  },
  {
   "cell_type": "code",
   "execution_count": 9,
   "id": "384cd521",
   "metadata": {},
   "outputs": [],
   "source": [
    "aeropuertos = aeropuertos.withColumn(\"pbmo\",aeropuertos[\"pbmo\"].cast(IntegerType()))\n",
    "aeropuertos = aeropuertos.withColumn(\"numero_vuelos_origen\",aeropuertos[\"numero_vuelos_origen\"].cast(IntegerType()))\n",
    "aeropuertos = aeropuertos.withColumn(\"fecha_construccion\",aeropuertos[\"fecha_construccion\"].cast(DateType()))\n",
    "aeropuertos = aeropuertos.withColumn(\"fecha_vigencia\",aeropuertos[\"fecha_vigencia\"].cast(DateType()))\n",
    "aeropuertos = aeropuertos.withColumn(\"clase\",aeropuertos[\"clase\"].cast(IntegerType()))"
   ]
  },
  {
   "cell_type": "code",
   "execution_count": 10,
   "id": "c427693d",
   "metadata": {},
   "outputs": [
    {
     "name": "stderr",
     "output_type": "stream",
     "text": [
      "\r",
      "[Stage 9:>                                                          (0 + 1) / 1]\r"
     ]
    },
    {
     "name": "stdout",
     "output_type": "stream",
     "text": [
      "+-------+------------------+------------------+-----------------+------------------+-----------------+------------------+----------+-----+--------------------+-----------------+------------------+\n",
      "|summary|           latitud|          longitud|   longitud_pista|       ancho_pista|             pbmo|         elevacion|resolucion|clase|numero_vuelos_origen| gcd_departamento|     gcd_municipio|\n",
      "+-------+------------------+------------------+-----------------+------------------+-----------------+------------------+----------+-----+--------------------+-----------------+------------------+\n",
      "|  count|               292|               292|              292|               292|              237|               292|       292|    0|                 221|              292|               292|\n",
      "|   mean| 5.543335616438355|-73.24611404109585| 962.445205479452|17.633561643835616|5683.341772151899|1073.3082191780823|       NaN| null|  185576.36199095022|63.03767123287671| 63341.63698630137|\n",
      "| stddev|2.3826685454671885|2.2960739088619917|540.0191104015921|10.356164406912008|9669.194411809849|1580.8586233906904|       NaN| null|   312190.2079185864|27.46134963485643|27463.258042601276|\n",
      "|    min|           -0.7831|          -81.7113|            200.0|              10.0|              400|               0.0|     2,279| null|                   1|                5|              5031|\n",
      "|    25%|            4.2171|          -74.9224|            700.0|              10.0|             2000|             357.0|       NaN| null|                  51|               50|             50001|\n",
      "|    50%|            5.2993|          -73.0583|            800.0|              15.0|             2000|             594.0|       NaN| null|                5850|               73|             73275|\n",
      "|    75%|             6.798|          -71.6123|           1200.0|              20.0|             4500|             870.0|       NaN| null|              240331|               85|             85250|\n",
      "|    max|           13.3572|          -67.0776|           3800.0|              75.0|            63196|            9740.0|       nan| null|             1804153|               99|             99773|\n",
      "+-------+------------------+------------------+-----------------+------------------+-----------------+------------------+----------+-----+--------------------+-----------------+------------------+\n",
      "\n"
     ]
    },
    {
     "name": "stderr",
     "output_type": "stream",
     "text": [
      "\r",
      "                                                                                \r"
     ]
    }
   ],
   "source": [
    "aeropuertos.select('latitud', 'longitud', 'longitud_pista', 'ancho_pista', 'pbmo', 'elevacion', 'resolucion', 'clase', 'numero_vuelos_origen', 'gcd_departamento', 'gcd_municipio').summary().show()"
   ]
  },
  {
   "cell_type": "code",
   "execution_count": 11,
   "id": "71f0d629",
   "metadata": {},
   "outputs": [
    {
     "name": "stdout",
     "output_type": "stream",
     "text": [
      "sigla:  212\n",
      "iata:  62\n",
      "nombre:  206\n",
      "municipio:  122\n",
      "departamento:  30\n",
      "categoria:  4\n",
      "propietario:  121\n",
      "explotador:  103\n",
      "tipo:  4\n"
     ]
    }
   ],
   "source": [
    "print(\"sigla: \", aeropuertos.select(\"sigla\").distinct().count())\n",
    "print(\"iata: \", aeropuertos.select(\"iata\").distinct().count())\n",
    "print(\"nombre: \", aeropuertos.select(\"nombre\").distinct().count())\n",
    "print(\"municipio: \", aeropuertos.select(\"municipio\").distinct().count())\n",
    "print(\"departamento: \", aeropuertos.select(\"departamento\").distinct().count())\n",
    "print(\"categoria: \", aeropuertos.select(\"categoria\").distinct().count())\n",
    "print(\"propietario: \", aeropuertos.select(\"propietario\").distinct().count())\n",
    "print(\"explotador: \", aeropuertos.select(\"explotador\").distinct().count())\n",
    "print(\"tipo: \", aeropuertos.select(\"tipo\").distinct().count())"
   ]
  },
  {
   "cell_type": "code",
   "execution_count": 13,
   "id": "d4ab14a1",
   "metadata": {},
   "outputs": [],
   "source": [
    "aeropuertos = aeropuertos.fillna({'numero_vuelos_origen': 185576})"
   ]
  },
  {
   "cell_type": "code",
   "execution_count": 14,
   "id": "f93b9b33",
   "metadata": {},
   "outputs": [
    {
     "name": "stderr",
     "output_type": "stream",
     "text": [
      "\r",
      "[Stage 68:>                                                         (0 + 1) / 1]\r"
     ]
    },
    {
     "name": "stdout",
     "output_type": "stream",
     "text": [
      "+----+---+------+-------+-----------+----------+-------+--------------------+------+------+--------------+---------+------------------+\n",
      "| ano|mes|origen|destino|tipo_equipo|tipo_vuelo|trafico|             empresa|vuelos|sillas|carga_ofrecida|pasajeros|       carga_bordo|\n",
      "+----+---+------+-------+-----------+----------+-------+--------------------+------+------+--------------+---------+------------------+\n",
      "|2012|  1|   BOG|    CUC|       BE20|         T|      N|             RIO SUR|   1.0|   0.0|           0.0|      4.0|             100.0|\n",
      "|2013|  5|   UIB|    BOG|       DH8D|         R|      N|               AIRES|  30.0|1110.0|       24000.0|    873.0|            4222.0|\n",
      "|2013| 10|   IBE|    BOG|       DH8D|         R|      N|               AIRES|  98.0|3626.0|       56056.0|   2866.0|           2323.75|\n",
      "|2012|  4|   FLA|    BOG|       JS32|         T|      N|         SARPA S.A.S|   1.0|   0.0|           0.0|      4.0|               0.0|\n",
      "|2013|  7|   CUC|    AUC|       C402|         T|      N|AEROCHARTER ANDIN...|   1.0|   0.0|           0.0|      nan|             180.0|\n",
      "|2012|  3|   CUC|    OCV|       C303|         T|      N|AEROCHARTER ANDIN...|   6.0|   0.0|           0.0|      6.0|               0.0|\n",
      "|2013| 11|   7NS|    BOG|       B190|         T|      N|         SEARCA S.A.|   nan|   nan|           0.0|    149.0|             880.0|\n",
      "|2010|  6|   AUC|    TME|       C206|         T|      N|                SAER|   1.0|   0.0|           0.0|      2.0|              50.0|\n",
      "|2010|  4|   CLO|    BOG|       D328|         R|      N|SERVICIO AEREO A ...|   3.0|  96.0|        7078.5|      2.0|               0.0|\n",
      "|2013|  5|   BOG|    CLO|       JS32|         T|      N|         SARPA S.A.S|   1.0|   0.0|           0.0|     10.0|               0.0|\n",
      "|2013| 12|   MVP|    VVC|       AT72|         R|      N|SERVICIO AEREO A ...|   9.0| 621.0|       18000.0|    569.0|               0.0|\n",
      "|2013|  4|   BOG|    IPI|       D328|         R|      N|SERVICIO AEREO A ...|  13.0| 416.0|       19500.0|      nan|               0.0|\n",
      "|2012|  6|   BOG|    FLA|       JS32|         T|      N|         SARPA S.A.S|   4.0|   nan|           0.0|     11.0|               0.0|\n",
      "|2011|  6|   NVA|    BOG|       BE20|         T|      N|         SEARCA S.A.|   2.0|   0.0|           0.0|     11.0|              40.0|\n",
      "|2010|  5|   BOG|    CTG|        M83|         R|      N|                 SAM|   1.0| 142.0|        7211.0|    107.0|              34.0|\n",
      "|2010| 11|   BOG|    VVC|       AN32|         T|      N| AER CARIBE LIMITADA|   2.0|   0.0|           0.0|      0.0|1687.3999999999999|\n",
      "|2013|  5|   EYP|    AUC|       JS32|         T|    nan|         SARPA S.A.S|   nan|   0.0|           0.0|     18.0|               0.0|\n",
      "|2013| 11|   PUU|    BOG|       AT72|         R|      N|SERVICIO AEREO A ...|   1.0|  70.0|        2000.0|     29.0|               0.0|\n",
      "|2011| 10|   BOG|    CLO|       C560|         T|      N|     CENTRAL CHARTER|   4.0|   0.0|           0.0|      8.0|               0.0|\n",
      "|2012| 10|   BOG|    ADZ|       BE9L|         T|      N|             RIO SUR|   1.0|   0.0|           0.0|      2.0|             100.0|\n",
      "+----+---+------+-------+-----------+----------+-------+--------------------+------+------+--------------+---------+------------------+\n",
      "only showing top 20 rows\n",
      "\n"
     ]
    },
    {
     "name": "stderr",
     "output_type": "stream",
     "text": [
      "\r",
      "                                                                                \r"
     ]
    }
   ],
   "source": [
    "vuelos = spark.read.load(PATH+\"vuelos.csv\",format=\"csv\", sep=\",\", inferSchema=\"true\", header=\"true\")\n",
    "vuelos.show()"
   ]
  },
  {
   "cell_type": "code",
   "execution_count": 15,
   "id": "4f8abe63",
   "metadata": {},
   "outputs": [
    {
     "name": "stdout",
     "output_type": "stream",
     "text": [
      "StructType(List(StructField(ano,IntegerType,true),StructField(mes,IntegerType,true),StructField(origen,StringType,true),StructField(destino,StringType,true),StructField(tipo_equipo,StringType,true),StructField(tipo_vuelo,StringType,true),StructField(trafico,StringType,true),StructField(empresa,StringType,true),StructField(vuelos,StringType,true),StructField(sillas,StringType,true),StructField(carga_ofrecida,DoubleType,true),StructField(pasajeros,StringType,true),StructField(carga_bordo,DoubleType,true)))\n"
     ]
    }
   ],
   "source": [
    "print(vuelos.schema)"
   ]
  },
  {
   "cell_type": "code",
   "execution_count": 16,
   "id": "4591b4e5",
   "metadata": {},
   "outputs": [
    {
     "name": "stdout",
     "output_type": "stream",
     "text": [
      "67599\n"
     ]
    }
   ],
   "source": [
    "row_number = vuelos.count()\n",
    "print(row_number)"
   ]
  },
  {
   "cell_type": "code",
   "execution_count": 17,
   "id": "05437f39",
   "metadata": {},
   "outputs": [
    {
     "name": "stderr",
     "output_type": "stream",
     "text": [
      "\r",
      "[Stage 73:>                                                         (0 + 1) / 1]\r"
     ]
    },
    {
     "name": "stdout",
     "output_type": "stream",
     "text": [
      "+---+---+------+-------+-----------+----------+-------+-------+------+------+--------------+---------+-----------+\n",
      "|ano|mes|origen|destino|tipo_equipo|tipo_vuelo|trafico|empresa|vuelos|sillas|carga_ofrecida|pasajeros|carga_bordo|\n",
      "+---+---+------+-------+-----------+----------+-------+-------+------+------+--------------+---------+-----------+\n",
      "|  0|  0|     0|      0|          0|         0|    894|      0|  1582|  4017|             0|     3483|          0|\n",
      "+---+---+------+-------+-----------+----------+-------+-------+------+------+--------------+---------+-----------+\n",
      "\n"
     ]
    },
    {
     "name": "stderr",
     "output_type": "stream",
     "text": [
      "\r",
      "                                                                                \r"
     ]
    }
   ],
   "source": [
    "vuelos.select([count(when(isnan(c), c)).alias(c) for c in vuelos.columns]).show()"
   ]
  },
  {
   "cell_type": "code",
   "execution_count": 18,
   "id": "fbc92d71",
   "metadata": {},
   "outputs": [],
   "source": [
    "vuelos = vuelos.withColumn(\"tipo_equipo\",vuelos[\"tipo_equipo\"].cast(IntegerType()))\n",
    "vuelos = vuelos.withColumn(\"vuelos\",vuelos[\"vuelos\"].cast(IntegerType()))\n",
    "vuelos = vuelos.withColumn(\"sillas\",vuelos[\"sillas\"].cast(IntegerType()))\n",
    "vuelos = vuelos.withColumn(\"pasajeros\",vuelos[\"pasajeros\"].cast(IntegerType()))"
   ]
  },
  {
   "cell_type": "code",
   "execution_count": 19,
   "id": "32c21857",
   "metadata": {},
   "outputs": [
    {
     "name": "stderr",
     "output_type": "stream",
     "text": [
      "\r",
      "[Stage 76:>                                                         (0 + 1) / 1]\r"
     ]
    },
    {
     "name": "stdout",
     "output_type": "stream",
     "text": [
      "+-------+------------------+------------------+------------------+-----------------+------------------+\n",
      "|summary|            vuelos|            sillas|    carga_ofrecida|        pasajeros|       carga_bordo|\n",
      "+-------+------------------+------------------+------------------+-----------------+------------------+\n",
      "|  count|             66017|             63582|             67599|            64116|             67599|\n",
      "|   mean|14.263735098535225|1133.1225346796264| 46758.48664891492|911.7284297211304| 5325.677899968939|\n",
      "| stddev| 40.19851542146546| 4468.301901592545|230667.33670267835| 3613.76621059051|23415.901919555745|\n",
      "|    min|                 1|                 0|               0.0|                0|               0.0|\n",
      "|    25%|                 1|                 0|               0.0|                2|               0.0|\n",
      "|    50%|                 2|                 0|               0.0|                8|             110.0|\n",
      "|    75%|                 9|               240|            9000.0|              184|            1335.0|\n",
      "|    max|              2004|             79925|         7361385.0|            65195|         1062015.0|\n",
      "+-------+------------------+------------------+------------------+-----------------+------------------+\n",
      "\n"
     ]
    },
    {
     "name": "stderr",
     "output_type": "stream",
     "text": [
      "\r",
      "                                                                                \r"
     ]
    }
   ],
   "source": [
    "vuelos.select('vuelos', 'sillas', 'carga_ofrecida','pasajeros', 'carga_bordo',).summary().show()"
   ]
  },
  {
   "cell_type": "code",
   "execution_count": 20,
   "id": "b1676e1d",
   "metadata": {},
   "outputs": [
    {
     "name": "stdout",
     "output_type": "stream",
     "text": [
      "origen:  111\n",
      "destino:  110\n",
      "tipo_equipo:  7\n",
      "tipo_vuelo:  4\n",
      "trafico:  2\n",
      "empresa:  71\n"
     ]
    }
   ],
   "source": [
    "print(\"origen: \", vuelos.select(\"origen\").distinct().count())\n",
    "print(\"destino: \", vuelos.select(\"destino\").distinct().count())\n",
    "print(\"tipo_equipo: \", vuelos.select(\"tipo_equipo\").distinct().count())\n",
    "print(\"tipo_vuelo: \", vuelos.select(\"tipo_vuelo\").distinct().count())\n",
    "print(\"trafico: \", vuelos.select(\"trafico\").distinct().count())\n",
    "print(\"empresa: \", vuelos.select(\"empresa\").distinct().count())"
   ]
  },
  {
   "cell_type": "code",
   "execution_count": null,
   "id": "b7560e2a",
   "metadata": {},
   "outputs": [],
   "source": []
  }
 ],
 "metadata": {
  "kernelspec": {
   "display_name": "Python 3 (ipykernel)",
   "language": "python",
   "name": "python3"
  },
  "language_info": {
   "codemirror_mode": {
    "name": "ipython",
    "version": 3
   },
   "file_extension": ".py",
   "mimetype": "text/x-python",
   "name": "python",
   "nbconvert_exporter": "python",
   "pygments_lexer": "ipython3",
   "version": "3.8.12"
  }
 },
 "nbformat": 4,
 "nbformat_minor": 5
}
