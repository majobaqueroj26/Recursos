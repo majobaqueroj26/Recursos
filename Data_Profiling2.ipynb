{
 "cells": [
  {
   "cell_type": "code",
   "execution_count": 206,
   "id": "9d5db0b3",
   "metadata": {},
   "outputs": [],
   "source": [
    "from pyspark.sql import SparkSession\n",
    "from pyspark.sql import functions\n",
    "from pyspark.sql.types import StructType\n",
    "from pyspark import SparkContext, SparkConf, SQLContext\n",
    "from pyspark.sql.types import FloatType, IntegerType, DateType, StringType\n",
    "from pyspark.sql.functions import udf, isnan, when, count, col, coalesce, lit, avg, mean, concat, concat_ws"
   ]
  },
  {
   "cell_type": "code",
   "execution_count": 2,
   "id": "e5fa193d",
   "metadata": {},
   "outputs": [],
   "source": [
    "import os \n",
    "#os.environ['PYSPARK_SUBMIT_ARGS'] = '--jars /usr/share/java/mariadb-java-client-2.5.3.jar pyspark-shell'\n",
    "os.environ['PYSPARK_SUBMIT_ARGS'] = '--jars /Users/majo/Documents/david/mariadb-java-client-2.5.3.jar pyspark-shell'"
   ]
  },
  {
   "cell_type": "code",
   "execution_count": 3,
   "id": "f7b0b3af",
   "metadata": {},
   "outputs": [
    {
     "name": "stderr",
     "output_type": "stream",
     "text": [
      "21/11/07 20:26:45 WARN NativeCodeLoader: Unable to load native-hadoop library for your platform... using builtin-java classes where applicable\n",
      "Using Spark's default log4j profile: org/apache/spark/log4j-defaults.properties\n",
      "Setting default log level to \"WARN\".\n",
      "To adjust logging level use sc.setLogLevel(newLevel). For SparkR, use setLogLevel(newLevel).\n",
      "21/11/07 20:26:47 WARN Utils: Service 'SparkUI' could not bind on port 4040. Attempting port 4041.\n",
      "/Users/majo/opt/anaconda3/envs/Modelo_ETL/lib/python3.8/site-packages/pyspark/sql/context.py:77: FutureWarning: Deprecated in 3.0.0. Use SparkSession.builder.getOrCreate() instead.\n",
      "  warnings.warn(\n"
     ]
    }
   ],
   "source": [
    "spark_context = SparkContext()\n",
    "sql_context = SQLContext(spark_context)\n",
    "spark = sql_context.sparkSession"
   ]
  },
  {
   "cell_type": "code",
   "execution_count": 4,
   "id": "23fdd665",
   "metadata": {},
   "outputs": [],
   "source": [
    "PATH = \"/Users/majo/Desktop/Maestria_MIAD/Semestre_1/Modelado_de_Datos_y_ETL/Semana_2/Tarea_Data_Profiling/\""
   ]
  },
  {
   "cell_type": "code",
   "execution_count": 16,
   "id": "eab2ec71",
   "metadata": {},
   "outputs": [],
   "source": [
    "aeropuertos = spark.read.load(PATH+\"aeropuertos.csv\",format=\"csv\", sep=\",\", inferSchema=\"true\", header=\"true\")"
   ]
  },
  {
   "cell_type": "code",
   "execution_count": 17,
   "id": "c5823fbc",
   "metadata": {},
   "outputs": [
    {
     "name": "stdout",
     "output_type": "stream",
     "text": [
      "StructType(List(StructField(_c0,IntegerType,true),StructField(sigla,StringType,true),StructField(iata,StringType,true),StructField(nombre,StringType,true),StructField(municipio,StringType,true),StructField(departamento,StringType,true),StructField(categoria,StringType,true),StructField(latitud,DoubleType,true),StructField(longitud,DoubleType,true),StructField(propietario,StringType,true),StructField(explotador,StringType,true),StructField(longitud_pista,DoubleType,true),StructField(ancho_pista,DoubleType,true),StructField(pbmo,StringType,true),StructField(elevacion,DoubleType,true),StructField(resolucion,StringType,true),StructField(fecha_construccion,StringType,true),StructField(fecha_vigencia,StringType,true),StructField(clase,StringType,true),StructField(tipo,StringType,true),StructField(numero_vuelos_origen,StringType,true),StructField(gcd_departamento,IntegerType,true),StructField(gcd_municipio,IntegerType,true)))\n"
     ]
    }
   ],
   "source": [
    "print(aeropuertos.schema)"
   ]
  },
  {
   "cell_type": "code",
   "execution_count": 18,
   "id": "bf07e418",
   "metadata": {},
   "outputs": [
    {
     "name": "stdout",
     "output_type": "stream",
     "text": [
      "292\n"
     ]
    }
   ],
   "source": [
    "row_number = aeropuertos.count()\n",
    "print(row_number)"
   ]
  },
  {
   "cell_type": "code",
   "execution_count": 19,
   "id": "3068584b",
   "metadata": {},
   "outputs": [],
   "source": [
    "aeropuertos = aeropuertos.drop(\"_c0\", \"iata\", \"latitud\", \"longitud\", \"propietario\", \"explotador\", \"longitud_pista\", \"ancho_pista\", \"pbmo\", \"orientacion\", \"elevacion\", \"resolucion\", \"calse\", \"tipo\", \"numero_vuelos_origen\", \"gcd_departamento\", \"gcd_municipio\", \"fecha_vigencia\")"
   ]
  },
  {
   "cell_type": "code",
   "execution_count": 20,
   "id": "515bab67",
   "metadata": {},
   "outputs": [
    {
     "name": "stdout",
     "output_type": "stream",
     "text": [
      "+-----+------+---------+------------+---------+------------------+-----+\n",
      "|sigla|nombre|municipio|departamento|categoria|fecha_construccion|clase|\n",
      "+-----+------+---------+------------+---------+------------------+-----+\n",
      "|    0|     0|        0|           0|        0|                 0|    0|\n",
      "+-----+------+---------+------------+---------+------------------+-----+\n",
      "\n"
     ]
    }
   ],
   "source": [
    "aeropuertos.select([count(when(isnan(c), c)).alias(c) for c in aeropuertos.columns]).show()"
   ]
  },
  {
   "cell_type": "code",
   "execution_count": 27,
   "id": "9916a612",
   "metadata": {},
   "outputs": [],
   "source": [
    "aeropuertos = aeropuertos.withColumn(\"fecha_construccion\", aeropuertos[\"fecha_construccion\"].cast(DateType()))"
   ]
  },
  {
   "cell_type": "code",
   "execution_count": 29,
   "id": "7a1faa82",
   "metadata": {},
   "outputs": [
    {
     "name": "stdout",
     "output_type": "stream",
     "text": [
      "sigla:  212\n",
      "nombre:  206\n",
      "municipio:  122\n",
      "departamento:  30\n",
      "categoria:  4\n"
     ]
    }
   ],
   "source": [
    "print(\"sigla: \", aeropuertos.select(\"sigla\").distinct().count())\n",
    "print(\"nombre: \", aeropuertos.select(\"nombre\").distinct().count())\n",
    "print(\"municipio: \", aeropuertos.select(\"municipio\").distinct().count())\n",
    "print(\"departamento: \", aeropuertos.select(\"departamento\").distinct().count())\n",
    "print(\"categoria: \", aeropuertos.select(\"categoria\").distinct().count())"
   ]
  },
  {
   "cell_type": "code",
   "execution_count": 40,
   "id": "a69c470b",
   "metadata": {},
   "outputs": [],
   "source": [
    "aeropuertos = aeropuertos.dropDuplicates()"
   ]
  },
  {
   "cell_type": "code",
   "execution_count": 41,
   "id": "3d0fd446",
   "metadata": {},
   "outputs": [],
   "source": [
    "aeropuertos = aeropuertos.where(aeropuertos['fecha_construccion']<'2014-01-01')"
   ]
  },
  {
   "cell_type": "code",
   "execution_count": 147,
   "id": "80a6af87",
   "metadata": {},
   "outputs": [],
   "source": [
    "vuelos = spark.read.load(PATH+\"vuelos.csv\",format=\"csv\", sep=\",\", inferSchema=\"true\", header=\"true\")"
   ]
  },
  {
   "cell_type": "code",
   "execution_count": 179,
   "id": "20984a1f",
   "metadata": {},
   "outputs": [
    {
     "name": "stdout",
     "output_type": "stream",
     "text": [
      "StructType(List(StructField(ano,IntegerType,true),StructField(mes,IntegerType,true),StructField(origen,StringType,true),StructField(destino,StringType,true),StructField(tipo_vuelo,StringType,true),StructField(trafico,StringType,true),StructField(vuelos,IntegerType,true),StructField(sillas,IntegerType,true),StructField(carga_ofrecida,IntegerType,true),StructField(pasajeros,IntegerType,true),StructField(carga_bordo,IntegerType,true)))\n"
     ]
    }
   ],
   "source": [
    "print(vuelos.schema)"
   ]
  },
  {
   "cell_type": "code",
   "execution_count": 149,
   "id": "ddd38224",
   "metadata": {},
   "outputs": [
    {
     "name": "stdout",
     "output_type": "stream",
     "text": [
      "67599\n"
     ]
    }
   ],
   "source": [
    "row_number = vuelos.count()\n",
    "print(row_number)"
   ]
  },
  {
   "cell_type": "code",
   "execution_count": 150,
   "id": "ca8c8983",
   "metadata": {},
   "outputs": [],
   "source": [
    "vuelos = vuelos.drop(\"tipo_equipo\", \"empresa\")"
   ]
  },
  {
   "cell_type": "code",
   "execution_count": 151,
   "id": "21f84d17",
   "metadata": {},
   "outputs": [
    {
     "name": "stderr",
     "output_type": "stream",
     "text": [
      "\r",
      "[Stage 596:>                                                        (0 + 1) / 1]\r"
     ]
    },
    {
     "name": "stdout",
     "output_type": "stream",
     "text": [
      "+---+---+------+-------+----------+-------+------+------+--------------+---------+-----------+\n",
      "|ano|mes|origen|destino|tipo_vuelo|trafico|vuelos|sillas|carga_ofrecida|pasajeros|carga_bordo|\n",
      "+---+---+------+-------+----------+-------+------+------+--------------+---------+-----------+\n",
      "|  0|  0|     0|      0|         0|    894|  1582|  4017|             0|     3483|          0|\n",
      "+---+---+------+-------+----------+-------+------+------+--------------+---------+-----------+\n",
      "\n"
     ]
    },
    {
     "name": "stderr",
     "output_type": "stream",
     "text": [
      "\r",
      "                                                                                \r"
     ]
    }
   ],
   "source": [
    "vuelos.select([count(when(isnan(c), c)).alias(c) for c in vuelos.columns]).show()"
   ]
  },
  {
   "cell_type": "code",
   "execution_count": 178,
   "id": "8e639a43",
   "metadata": {},
   "outputs": [],
   "source": [
    "vuelos = vuelos.withColumn(\"vuelos\",vuelos[\"vuelos\"].cast(IntegerType()))\n",
    "vuelos = vuelos.withColumn(\"sillas\",vuelos[\"sillas\"].cast(IntegerType()))\n",
    "vuelos = vuelos.withColumn(\"pasajeros\",vuelos[\"pasajeros\"].cast(IntegerType()))\n",
    "vuelos = vuelos.withColumn(\"carga_ofrecida\",vuelos[\"carga_ofrecida\"].cast(IntegerType()))\n",
    "vuelos = vuelos.withColumn(\"carga_bordo\",vuelos[\"carga_bordo\"].cast(IntegerType()))\n",
    "vuelos = vuelos.withColumn(\"trafico\",vuelos[\"trafico\"].cast(StringType()))"
   ]
  },
  {
   "cell_type": "code",
   "execution_count": 200,
   "id": "e77c7d18",
   "metadata": {},
   "outputs": [
    {
     "ename": "TypeError",
     "evalue": "'Column' object is not callable",
     "output_type": "error",
     "traceback": [
      "\u001b[0;31m---------------------------------------------------------------------------\u001b[0m",
      "\u001b[0;31mTypeError\u001b[0m                                 Traceback (most recent call last)",
      "\u001b[0;32m/var/folders/jp/9ls0xkx956j74pvlg6v26zw40000gn/T/ipykernel_19048/4171150016.py\u001b[0m in \u001b[0;36m<module>\u001b[0;34m\u001b[0m\n\u001b[1;32m      8\u001b[0m \u001b[0mvuelos\u001b[0m \u001b[0;34m=\u001b[0m \u001b[0mvuelos\u001b[0m\u001b[0;34m.\u001b[0m\u001b[0mfillna\u001b[0m\u001b[0;34m(\u001b[0m\u001b[0;34m{\u001b[0m\u001b[0;34m'pasajeros'\u001b[0m\u001b[0;34m:\u001b[0m \u001b[0mpromedio_pasajeros\u001b[0m\u001b[0;34m.\u001b[0m\u001b[0mfirst\u001b[0m\u001b[0;34m(\u001b[0m\u001b[0;34m)\u001b[0m\u001b[0;34m[\u001b[0m\u001b[0;36m0\u001b[0m\u001b[0;34m]\u001b[0m\u001b[0;34m}\u001b[0m\u001b[0;34m)\u001b[0m\u001b[0;34m\u001b[0m\u001b[0;34m\u001b[0m\u001b[0m\n\u001b[1;32m      9\u001b[0m \u001b[0;34m\u001b[0m\u001b[0m\n\u001b[0;32m---> 10\u001b[0;31m \u001b[0mvuelos\u001b[0m \u001b[0;34m=\u001b[0m \u001b[0mvuelos\u001b[0m\u001b[0;34m[\u001b[0m\u001b[0;34m'trafico'\u001b[0m\u001b[0;34m]\u001b[0m\u001b[0;34m.\u001b[0m\u001b[0mfillna\u001b[0m\u001b[0;34m(\u001b[0m\u001b[0mmethod\u001b[0m \u001b[0;34m=\u001b[0m \u001b[0;34m\"backfill\"\u001b[0m\u001b[0;34m)\u001b[0m\u001b[0;34m\u001b[0m\u001b[0;34m\u001b[0m\u001b[0m\n\u001b[0m\u001b[1;32m     11\u001b[0m \u001b[0;34m\u001b[0m\u001b[0m\n\u001b[1;32m     12\u001b[0m \u001b[0mvuelos\u001b[0m\u001b[0;34m.\u001b[0m\u001b[0mshow\u001b[0m\u001b[0;34m(\u001b[0m\u001b[0;34m)\u001b[0m\u001b[0;34m\u001b[0m\u001b[0;34m\u001b[0m\u001b[0m\n",
      "\u001b[0;31mTypeError\u001b[0m: 'Column' object is not callable"
     ]
    }
   ],
   "source": [
    "promedio_vuelos = vuelos.agg({'vuelos': 'avg'})\n",
    "vuelos = vuelos.fillna({'vuelos': promedio_vuelos.first()[0]})\n",
    "\n",
    "promedio_sillas = vuelos.agg({'sillas': 'avg'})\n",
    "vuelos = vuelos.fillna({'sillas': promedio_sillas.first()[0]})\n",
    "\n",
    "promedio_pasajeros = vuelos.agg({'pasajeros': 'avg'})\n",
    "vuelos = vuelos.fillna({'pasajeros': promedio_pasajeros.first()[0]})\n",
    "\n",
    "#vuelos = vuelos['trafico'].fillna(method = \"backfill\")\n",
    "\n",
    "vuelos.show()"
   ]
  },
  {
   "cell_type": "code",
   "execution_count": 186,
   "id": "fa1fcddc",
   "metadata": {},
   "outputs": [
    {
     "name": "stderr",
     "output_type": "stream",
     "text": [
      "                                                                                \r"
     ]
    },
    {
     "name": "stdout",
     "output_type": "stream",
     "text": [
      "+---+---+------+-------+----------+-------+------+------+--------------+---------+-----------+\n",
      "|ano|mes|origen|destino|tipo_vuelo|trafico|vuelos|sillas|carga_ofrecida|pasajeros|carga_bordo|\n",
      "+---+---+------+-------+----------+-------+------+------+--------------+---------+-----------+\n",
      "|  0|  0|     0|      0|         0|    894|     0|     0|             0|        0|          0|\n",
      "+---+---+------+-------+----------+-------+------+------+--------------+---------+-----------+\n",
      "\n",
      "+---+---+------+-------+----------+-------+------+------+--------------+---------+-----------+\n",
      "|ano|mes|origen|destino|tipo_vuelo|trafico|vuelos|sillas|carga_ofrecida|pasajeros|carga_bordo|\n",
      "+---+---+------+-------+----------+-------+------+------+--------------+---------+-----------+\n",
      "+---+---+------+-------+----------+-------+------+------+--------------+---------+-----------+\n",
      "\n"
     ]
    }
   ],
   "source": [
    "vuelos.select([count(when(isnan(c), c)).alias(c) for c in vuelos.columns]).show()\n",
    "vuelos.where(col(\"trafico\").isNull()).show()"
   ]
  },
  {
   "cell_type": "code",
   "execution_count": 49,
   "id": "e1bcbfb5",
   "metadata": {},
   "outputs": [
    {
     "name": "stdout",
     "output_type": "stream",
     "text": [
      "origen:  111\n",
      "destino:  110\n",
      "tipo_vuelo:  4\n",
      "trafico:  2\n"
     ]
    }
   ],
   "source": [
    "print(\"origen: \", vuelos.select(\"origen\").distinct().count())\n",
    "print(\"destino: \", vuelos.select(\"destino\").distinct().count())\n",
    "print(\"tipo_vuelo: \", vuelos.select(\"tipo_vuelo\").distinct().count())\n",
    "print(\"trafico: \", vuelos.select(\"trafico\").distinct().count())"
   ]
  },
  {
   "cell_type": "code",
   "execution_count": 84,
   "id": "bf9183e1",
   "metadata": {},
   "outputs": [],
   "source": [
    "vuelos = vuelos.dropDuplicates()"
   ]
  },
  {
   "cell_type": "code",
   "execution_count": 195,
   "id": "b4263d13",
   "metadata": {},
   "outputs": [],
   "source": [
    "trayecto = vuelos[['origen', 'destino']]\n",
    "trayecto = trayecto.select(concat(trayecto.origen, trayecto.destino).alias(\"idTrayecto\"), \"origen\", \"destino\")\n",
    "trayecto = trayecto.dropDuplicates()\n",
    "trayecto.write.csv(\"trayecto.csv\")"
   ]
  },
  {
   "cell_type": "code",
   "execution_count": 197,
   "id": "2f4101d0",
   "metadata": {},
   "outputs": [],
   "source": [
    "region = aeropuertos[['departamento', 'municipio']]\n",
    "region = region.dropDuplicates()\n",
    "region.write.csv(\"region.csv\")"
   ]
  },
  {
   "cell_type": "code",
   "execution_count": 208,
   "id": "f1f327f1",
   "metadata": {},
   "outputs": [
    {
     "name": "stdout",
     "output_type": "stream",
     "text": [
      "+----------+----------+------+---------+------+----------+-------+--------------+-----------+\n",
      "|   idFecha|idTrayecto|vuelos|pasajeros|sillas|tipo_vuelo|trafico|carga_ofrecida|carga_bordo|\n",
      "+----------+----------+------+---------+------+----------+-------+--------------+-----------+\n",
      "|2012-01-01|    BOGCUC|     1|        4|     0|         T|      N|             0|        100|\n",
      "|2013-05-01|    UIBBOG|    30|      873|  1110|         R|      N|         24000|       4222|\n",
      "|2013-10-01|    IBEBOG|    98|     2866|  3626|         R|      N|         56056|       2323|\n",
      "|2012-04-01|    FLABOG|     1|        4|     0|         T|      N|             0|          0|\n",
      "|2013-07-01|    CUCAUC|     1|      911|     0|         T|      N|             0|        180|\n",
      "|2012-03-01|    CUCOCV|     6|        6|     0|         T|      N|             0|          0|\n",
      "|2013-11-01|    7NSBOG|    14|      149|  1133|         T|      N|             0|        880|\n",
      "|2010-06-01|    AUCTME|     1|        2|     0|         T|      N|             0|         50|\n",
      "|2010-04-01|    CLOBOG|     3|        2|    96|         R|      N|          7078|          0|\n",
      "|2013-05-01|    BOGCLO|     1|       10|     0|         T|      N|             0|          0|\n",
      "|2013-12-01|    MVPVVC|     9|      569|   621|         R|      N|         18000|          0|\n",
      "|2013-04-01|    BOGIPI|    13|      911|   416|         R|      N|         19500|          0|\n",
      "|2012-06-01|    BOGFLA|     4|       11|  1133|         T|      N|             0|          0|\n",
      "|2011-06-01|    NVABOG|     2|       11|     0|         T|      N|             0|         40|\n",
      "|2010-05-01|    BOGCTG|     1|      107|   142|         R|      N|          7211|         34|\n",
      "|2010-11-01|    BOGVVC|     2|        0|     0|         T|      N|             0|       1687|\n",
      "|2013-05-01|    EYPAUC|    14|       18|     0|         T|    nan|             0|          0|\n",
      "|2013-11-01|    PUUBOG|     1|       29|    70|         R|      N|          2000|          0|\n",
      "|2011-10-01|    BOGCLO|     4|        8|     0|         T|      N|             0|          0|\n",
      "|2012-10-01|    BOGADZ|     1|        2|     0|         T|      N|             0|        100|\n",
      "+----------+----------+------+---------+------+----------+-------+--------------+-----------+\n",
      "only showing top 20 rows\n",
      "\n"
     ]
    }
   ],
   "source": [
    "registro_vuelos = vuelos[['ano', 'mes', 'origen', 'destino', 'vuelos', 'pasajeros', 'sillas', 'tipo_vuelo', 'trafico', 'carga_ofrecida', 'carga_bordo']]\n",
    "registro_vuelos = registro_vuelos.withColumn(\"dia\", lit(\"01\"))\n",
    "registro_vuelos = registro_vuelos.select(concat_ws('-', registro_vuelos.ano, registro_vuelos.mes, registro_vuelos.dia)\n",
    "                                         .cast(\"date\")\n",
    "                                         .alias(\"idFecha\"),concat(registro_vuelos.origen, registro_vuelos.destino)\n",
    "                                         .alias(\"idTrayecto\"), 'vuelos', 'pasajeros', 'sillas', 'tipo_vuelo', \n",
    "                                         'trafico', 'carga_ofrecida', 'carga_bordo')"
   ]
  },
  {
   "cell_type": "code",
   "execution_count": null,
   "id": "2e5a6d09",
   "metadata": {},
   "outputs": [],
   "source": []
  }
 ],
 "metadata": {
  "kernelspec": {
   "display_name": "Python 3 (ipykernel)",
   "language": "python",
   "name": "python3"
  },
  "language_info": {
   "codemirror_mode": {
    "name": "ipython",
    "version": 3
   },
   "file_extension": ".py",
   "mimetype": "text/x-python",
   "name": "python",
   "nbconvert_exporter": "python",
   "pygments_lexer": "ipython3",
   "version": "3.8.12"
  }
 },
 "nbformat": 4,
 "nbformat_minor": 5
}
